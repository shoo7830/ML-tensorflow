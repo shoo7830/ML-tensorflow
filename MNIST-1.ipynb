{
 "cells": [
  {
   "cell_type": "code",
   "execution_count": 1,
   "metadata": {
    "scrolled": true
   },
   "outputs": [
    {
     "name": "stdout",
     "output_type": "stream",
     "text": [
      "Extracting MNIST_data/train-images-idx3-ubyte.gz\n",
      "Extracting MNIST_data/train-labels-idx1-ubyte.gz\n",
      "Extracting MNIST_data/t10k-images-idx3-ubyte.gz\n",
      "Extracting MNIST_data/t10k-labels-idx1-ubyte.gz\n"
     ]
    }
   ],
   "source": [
    "from tensorflow.examples.tutorials.mnist import input_data\n",
    "mnist = input_data.read_data_sets(\"MNIST_data/\", one_hot=True)\n",
    "# 데이터를 다운로드, 설치"
   ]
  },
  {
   "cell_type": "code",
   "execution_count": 17,
   "metadata": {},
   "outputs": [
    {
     "name": "stdout",
     "output_type": "stream",
     "text": [
      "0.9226\n"
     ]
    }
   ],
   "source": [
    "import tensorflow as tf # 텐서플로우 임포트\n",
    "\n",
    "x = tf.placeholder(tf.float32, [None, 784]) \n",
    "# 784차원의 벡터로 변형된 MNIST 이미지 데이터, None은 어떤 길이든 될 수 있음\n",
    "\n",
    "W = tf.Variable(tf.zeros([784, 10]))\n",
    "b = tf.Variable(tf.zeros([10]))\n",
    "# Variable은 텐서플로우 그래프 안에 수정 가능한 텐서, Varable의 초기값 전달.\n",
    "# W, b 둘 다 0으로 이뤄진 텐서로 초기화, 학습 할거니까 초기값 중요하지 않음.\n",
    "\n",
    "y = tf.nn.softmax(tf.matmul(x, W) + b)\n",
    "# softmax 적용, 회귀 구현\n",
    "\n",
    "y_ = tf.placeholder(tf.float32, [None, 10])\n",
    "# 크로스 엔트로피를 구현하기 위해 새로운 placeholder 추가\n",
    "# 크로스 엔트로피: 모델의 손실을 정의하기 위해 사용되는 함수\n",
    "\n",
    "cross_entropy = tf.reduce_mean(-tf.reduce_sum(y_ * tf.log(y), reduction_indices=[1]))\n",
    "train_step = tf.train.GradientDescentOptimizer(0.5).minimize(cross_entropy)\n",
    "# 학습비율 0.5로 경사하강법 적용\n",
    "\n",
    "init = tf.global_variables_initializer()\n",
    "# 변수 초기화\n",
    "\n",
    "sess = tf.Session()\n",
    "sess.run(init)\n",
    "# Session에서 모델을 실행, 변수 초기화\n",
    "\n",
    "# 본격 학습 1000번\n",
    "for i in range(1000):\n",
    "  batch_xs, batch_ys = mnist.train.next_batch(100)\n",
    "  sess.run(train_step, feed_dict={x: batch_xs, y_: batch_ys})\n",
    "    \n",
    "    \n",
    "correct_prediction = tf.equal(tf.argmax(y,1), tf.argmax(y_,1))\n",
    "\n",
    "accuracy = tf.reduce_mean(tf.cast(correct_prediction, tf.float32))\n",
    "\n",
    "print(sess.run(accuracy, feed_dict={x: mnist.test.images, y_: mnist.test.labels}))"
   ]
  }
 ],
 "metadata": {
  "kernelspec": {
   "display_name": "Python 3",
   "language": "python",
   "name": "python3"
  },
  "language_info": {
   "codemirror_mode": {
    "name": "ipython",
    "version": 3
   },
   "file_extension": ".py",
   "mimetype": "text/x-python",
   "name": "python",
   "nbconvert_exporter": "python",
   "pygments_lexer": "ipython3",
   "version": "3.6.1"
  }
 },
 "nbformat": 4,
 "nbformat_minor": 2
}
